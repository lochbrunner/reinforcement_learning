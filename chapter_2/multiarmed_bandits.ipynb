{
 "cells": [
  {
   "cell_type": "markdown",
   "metadata": {},
   "source": [
    "# Multi-armed Bandits\n",
    "\n",
    "The expected value for action $q$ given that action $a$ is selected is given by the reward $R_t$\n",
    "\n",
    "\\begin{align}\n",
    "q_*(a) := \\mathbb{E}\\left[R_t,A_t=a \\right]\n",
    "\\end{align}"
   ]
  },
  {
   "cell_type": "markdown",
   "metadata": {},
   "source": [
    "The action-value function if defined as\n",
    "\\begin{align}\n",
    "Q_t(a) := \\frac{\\text{sum of rewards when a taken prior to t}}{\\text{number of times a taken prior to t}}\n",
    "\\end{align}"
   ]
  },
  {
   "cell_type": "markdown",
   "metadata": {},
   "source": [
    "### Multi-Armed Bandits as DM Environment"
   ]
  },
  {
   "cell_type": "code",
   "execution_count": 24,
   "metadata": {},
   "outputs": [
    {
     "name": "stdout",
     "output_type": "stream",
     "text": [
      "Requirement already satisfied: dm-env in /home/matthias/.local/lib/python3.8/site-packages (1.5)\n",
      "Requirement already satisfied: numpy in /home/matthias/.local/lib/python3.8/site-packages (1.22.0)\n",
      "Requirement already satisfied: dm-tree in /home/matthias/.local/lib/python3.8/site-packages (from dm-env) (0.1.6)\n",
      "Requirement already satisfied: absl-py in /home/matthias/.local/lib/python3.8/site-packages (from dm-env) (0.11.0)\n",
      "Requirement already satisfied: six>=1.12.0 in /usr/lib/python3/dist-packages (from dm-tree->dm-env) (1.14.0)\n"
     ]
    }
   ],
   "source": [
    "!pip install dm-env numpy"
   ]
  },
  {
   "cell_type": "code",
   "execution_count": 39,
   "metadata": {},
   "outputs": [],
   "source": [
    "import dm_env\n",
    "from dm_env import specs\n",
    "import numpy as np\n",
    "from dataclasses import dataclass\n",
    "\n",
    "@dataclass\n",
    "class BaditArm:\n",
    "    mean: float\n",
    "    sigma: float\n",
    "    rng: np.random.RandomState\n",
    "\n",
    "    def __call__(self):\n",
    "        return self.rng.normal(self.mean, self.sigma)\n",
    "\n",
    "class MultiArmedBandit(dm_env.Environment):\n",
    "    def __init__(self, k: int = 10, seed: int = 1):\n",
    "        self._seed = seed\n",
    "        self._k = k\n",
    "        self._reset()\n",
    "\n",
    "    def reset(self) -> dm_env.TimeStep:\n",
    "        self._reset()\n",
    "        return dm_env.restart(np.zeros(1))\n",
    "\n",
    "    def step(self, action: int) -> dm_env.TimeStep:\n",
    "        reward = self._arms[action]()\n",
    "        return dm_env.termination(reward=reward, observation=None)\n",
    "\n",
    "    def observation_spec(self) -> specs.BoundedArray:\n",
    "        return specs.BoundedArray(\n",
    "            shape=(0,),\n",
    "            dtype=np.float_,\n",
    "            name=\"multi-armed-bandit\",\n",
    "            minimum=0,\n",
    "            maximum=len(self._arms)-1,\n",
    "        )\n",
    "\n",
    "    def action_spec(self) -> specs.DiscreteArray:\n",
    "        return specs.DiscreteArray(dtype=int, num_values=1, name=\"action\")\n",
    "\n",
    "    def _reset(self):\n",
    "        rng = np.random.RandomState(self._seed)\n",
    "        self._arms = [\n",
    "            BaditArm(mean=a*10., sigma=b,rng=rng) for a,b in rng.random_sample((self._k ,2))\n",
    "        ]\n",
    "\n",
    "    def __repr__(self):\n",
    "        return repr(self._arms)\n",
    "\n"
   ]
  },
  {
   "cell_type": "markdown",
   "metadata": {},
   "source": [
    "## $\\epsilon$ greedy\n",
    "\n",
    "When a actor is greedy, it will take the action with the highest expected reward.\n",
    "But with the chance of $\\epsilon$ it will choose a random action."
   ]
  },
  {
   "cell_type": "code",
   "execution_count": 29,
   "metadata": {},
   "outputs": [],
   "source": [
    "\n",
    "class BanditActor:\n",
    "\n",
    "    def __init__(self, k: int, environment: MultiArmedBandit, epsilon: float, seed: int = 1):\n",
    "        self._environment = environment\n",
    "        self._rewards = np.zeros(k, dtype=environment.observation_spec().dtype)\n",
    "        self._counts = np.zeros(k, dtype=np.int32)\n",
    "        self._epsilon = epsilon\n",
    "        self._rng = np.random.RandomState(seed)\n",
    "        self._k = k\n",
    "\n",
    "    def __call__(self):\n",
    "        if self._rng.random_sample() < self._epsilon:\n",
    "            # greedy\n",
    "            action = self._rng.randint(0, self._k)\n",
    "        else:\n",
    "            action = np.argmax(self.returns)\n",
    "        timestep = self._environment.step(action)\n",
    "        self._rewards[action] += timestep.reward\n",
    "        self._counts[action] += 1\n",
    "\n",
    "    @property\n",
    "    def returns(self):\n",
    "        return self._rewards / np.maximum(self._counts, 1.)\n",
    "\n",
    "    @property\n",
    "    def total_reward(self):\n",
    "        return np.sum(self._rewards)\n",
    "        \n",
    "    @property\n",
    "    def mean_reward(self):\n",
    "        return np.mean(self.returns)\n",
    "\n",
    "\n"
   ]
  },
  {
   "cell_type": "code",
   "execution_count": 57,
   "metadata": {},
   "outputs": [],
   "source": [
    "K = 100\n",
    "multi_armed_bandit = MultiArmedBandit(K)\n"
   ]
  },
  {
   "cell_type": "code",
   "execution_count": 61,
   "metadata": {},
   "outputs": [
    {
     "data": {
      "image/png": "[encoded data removed]",
      "text/plain": [
       "<Figure size 432x288 with 1 Axes>"
      ]
     },
     "metadata": {
      "needs_background": "light"
     },
     "output_type": "display_data"
    }
   ],
   "source": [
    "import matplotlib.pyplot as plt\n",
    "\n",
    "greedies = {'red': 0.01, 'blue': 0.1, 'green': 0}\n",
    "STEPS = 10000\n",
    "x = range(STEPS)\n",
    "\n",
    "for color, epsilon in greedies.items():\n",
    "    multi_armed_bandit.reset()\n",
    "    actor = BanditActor(K, multi_armed_bandit, epsilon)\n",
    "\n",
    "    y = []\n",
    "    for _ in x:\n",
    "        actor()\n",
    "        y.append(actor.mean_reward)\n",
    "\n",
    "    plt.plot(x, y, color=color, label=f'$\\epsilon = {epsilon}$')\n",
    "\n",
    "plt.legend(loc='upper left')\n",
    "plt.show()\n"
   ]
  },
  {
   "cell_type": "code",
   "execution_count": null,
   "metadata": {},
   "outputs": [],
   "source": []
  },
  {
   "cell_type": "code",
   "execution_count": null,
   "metadata": {},
   "outputs": [],
   "source": []
  }
 ],
 "metadata": {
  "interpreter": {
   "hash": "916dbcbb3f70747c44a77c7bcd40155683ae19c65e1c03b4aa3499c5328201f1"
  },
  "kernelspec": {
   "display_name": "Python 3.8.10 64-bit",
   "language": "python",
   "name": "python3"
  },
  "language_info": {
   "codemirror_mode": {
    "name": "ipython",
    "version": 3
   },
   "file_extension": ".py",
   "mimetype": "text/x-python",
   "name": "python",
   "nbconvert_exporter": "python",
   "pygments_lexer": "ipython3",
   "version": "3.8.10"
  },
  "orig_nbformat": 4
 },
 "nbformat": 4,
 "nbformat_minor": 2
}
