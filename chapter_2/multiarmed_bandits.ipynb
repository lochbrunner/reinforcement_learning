{
 "cells": [
  {
   "cell_type": "markdown",
   "metadata": {},
   "source": [
    "# Multi-armed Bandits\n",
    "\n",
    "The expected value for action $q$ given that action $a$ is selected is given by the reward $R_t$\n",
    "\n",
    "\\begin{align}\n",
    "q_*(a) := \\mathbb{E}\\left[R_t,A_t=a \\right]\n",
    "\\end{align}"
   ]
  },
  {
   "cell_type": "markdown",
   "metadata": {},
   "source": [
    "The action-value function if defined as\n",
    "\\begin{align}\n",
    "Q_t(a) := \\frac{\\text{sum of rewards when a taken prior to t}}{\\text{number of times a taken prior to t}}\n",
    "\\end{align}"
   ]
  },
  {
   "cell_type": "markdown",
   "metadata": {},
   "source": [
    "### Multi-Armed Bandits as DM Environment"
   ]
  },
  {
   "cell_type": "code",
   "execution_count": 6,
   "metadata": {},
   "outputs": [],
   "source": [
    "!pip install --user dm_env numpy"
   ]
  },
  {
   "cell_type": "code",
   "execution_count": 22,
   "metadata": {},
   "outputs": [],
   "source": [
    "import dm_env\n",
    "from dm_env import specs\n",
    "import numpy as np\n",
    "from dataclasses import dataclass\n",
    "\n",
    "@dataclass\n",
    "class BaditArm:\n",
    "    mean: float\n",
    "    sigma: float\n",
    "    rng: np.random.RandomState\n",
    "\n",
    "    def __call__(self):\n",
    "        return self.rng.normal(self.mean, self.sigma)\n",
    "\n",
    "class MultiArmedBandit(dm_env.Environment):\n",
    "    def __init__(self, k: int = 10, seed: int = 1):\n",
    "        rng = np.random.RandomState(seed)\n",
    "        self._arms = [\n",
    "            BaditArm(mean=a*4-2., sigma=b,rng=rng) for a,b in rng.random_sample((k,2))\n",
    "        ]\n",
    "\n",
    "    def reset(self) -> dm_env.TimeStep:\n",
    "        return dm_env.restart(np.zeros(1))\n",
    "\n",
    "    def step(self, action: int) -> dm_env.TimeStep:\n",
    "        return self._arms[action]()\n",
    "\n",
    "    def observation_spec(self) -> specs.BoundedArray:\n",
    "        return specs.BoundedArray(\n",
    "            shape=(1,),\n",
    "            dtype=np.float_,\n",
    "            name=\"multi-armed-bandit\",\n",
    "            minimum=0,\n",
    "            maximum=len(self._arms)-1,\n",
    "        )\n",
    "\n",
    "    def action_spec(self) -> specs.DiscreteArray:\n",
    "        return specs.DiscreteArray(dtype=int, num_values=1, name=\"action\")\n",
    "\n"
   ]
  },
  {
   "cell_type": "code",
   "execution_count": 23,
   "metadata": {},
   "outputs": [],
   "source": [
    "multi_armed_bandit = MultiArmedBandit(4)"
   ]
  }
 ],
 "metadata": {
  "interpreter": {
   "hash": "916dbcbb3f70747c44a77c7bcd40155683ae19c65e1c03b4aa3499c5328201f1"
  },
  "kernelspec": {
   "display_name": "Python 3.8.10 64-bit",
   "language": "python",
   "name": "python3"
  },
  "language_info": {
   "codemirror_mode": {
    "name": "ipython",
    "version": 3
   },
   "file_extension": ".py",
   "mimetype": "text/x-python",
   "name": "python",
   "nbconvert_exporter": "python",
   "pygments_lexer": "ipython3",
   "version": "3.8.10"
  },
  "orig_nbformat": 4
 },
 "nbformat": 4,
 "nbformat_minor": 2
}
